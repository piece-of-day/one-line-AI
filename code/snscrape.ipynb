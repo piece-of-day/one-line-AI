{
 "cells": [
  {
   "cell_type": "code",
   "execution_count": 6,
   "metadata": {},
   "outputs": [],
   "source": [
    "import pandas as pd\n",
    "import snscrape.modules.twitter as sntwitter\n",
    "import tqdm"
   ]
  },
  {
   "cell_type": "code",
   "execution_count": 14,
   "metadata": {},
   "outputs": [
    {
     "name": "stderr",
     "output_type": "stream",
     "text": [
      "C:\\Users\\ms964\\AppData\\Local\\Temp\\ipykernel_22304\\2396801305.py:5: TqdmDeprecationWarning: This function will be removed in tqdm==5.0.0\n",
      "Please use `tqdm.notebook.tqdm` instead of `tqdm.tqdm_notebook`\n",
      "  for i,tweet in tqdm.tqdm_notebook(enumerate(sntwitter.TwitterSearchScraper('#study lang:en since:2021-01-01 until:2021-05-31').get_items())):\n"
     ]
    },
    {
     "data": {
      "application/vnd.jupyter.widget-view+json": {
       "model_id": "910770e8fa4a4429b8a5715674a1aff9",
       "version_major": 2,
       "version_minor": 0
      },
      "text/plain": [
       "0it [00:00, ?it/s]"
      ]
     },
     "metadata": {},
     "output_type": "display_data"
    }
   ],
   "source": [
    "tweets_list2 = list()\n",
    "\n",
    "\n",
    "# #study 라는 검색어에 대해 2021-01-01 ~ 2021-05-31 사이의 트윗을 수집한다\n",
    "for i,tweet in tqdm.tqdm_notebook(enumerate(sntwitter.TwitterSearchScraper('#study lang:en since:2021-01-01 until:2021-05-31').get_items())):\n",
    "    #   5000개 수집하면 종료\n",
    "    if i>100:\n",
    "        break\n",
    "    #   트윗의 날짜, id, 내용 3가지를 리스트에 추가\n",
    "    tweets_list2.append([tweet.date, tweet.id, tweet.content])\n",
    "    \n",
    "# Creating a dataframe from the tweets list above\n",
    "#   데이터 저장된 리스트를 pandas 데이터프레임으로 변환\n",
    "tweets_df2 = pd.DataFrame(tweets_list2, columns=['Datetime', 'Tweet Id', 'Text'])"
   ]
  },
  {
   "cell_type": "code",
   "execution_count": 15,
   "metadata": {},
   "outputs": [
    {
     "data": {
      "text/html": [
       "<div>\n",
       "<style scoped>\n",
       "    .dataframe tbody tr th:only-of-type {\n",
       "        vertical-align: middle;\n",
       "    }\n",
       "\n",
       "    .dataframe tbody tr th {\n",
       "        vertical-align: top;\n",
       "    }\n",
       "\n",
       "    .dataframe thead th {\n",
       "        text-align: right;\n",
       "    }\n",
       "</style>\n",
       "<table border=\"1\" class=\"dataframe\">\n",
       "  <thead>\n",
       "    <tr style=\"text-align: right;\">\n",
       "      <th></th>\n",
       "      <th>Datetime</th>\n",
       "      <th>Tweet Id</th>\n",
       "      <th>Text</th>\n",
       "    </tr>\n",
       "  </thead>\n",
       "  <tbody>\n",
       "    <tr>\n",
       "      <th>0</th>\n",
       "      <td>2021-05-30 23:22:05+00:00</td>\n",
       "      <td>1399144110313848832</td>\n",
       "      <td>good night 💤 \\n\\nfull loop:\\n https://t.co/Vid...</td>\n",
       "    </tr>\n",
       "    <tr>\n",
       "      <th>1</th>\n",
       "      <td>2021-05-30 23:05:33+00:00</td>\n",
       "      <td>1399139950730350594</td>\n",
       "      <td>Sad and quiet night - Lofi Chill 85bpm \\n\\nFul...</td>\n",
       "    </tr>\n",
       "    <tr>\n",
       "      <th>2</th>\n",
       "      <td>2021-05-30 22:53:42+00:00</td>\n",
       "      <td>1399136966046744577</td>\n",
       "      <td>#Australian wages and household income higher ...</td>\n",
       "    </tr>\n",
       "    <tr>\n",
       "      <th>3</th>\n",
       "      <td>2021-05-30 22:49:09+00:00</td>\n",
       "      <td>1399135823065452544</td>\n",
       "      <td>Just a couple of quick rough studies posted at...</td>\n",
       "    </tr>\n",
       "    <tr>\n",
       "      <th>4</th>\n",
       "      <td>2021-05-30 22:35:43+00:00</td>\n",
       "      <td>1399132442716512259</td>\n",
       "      <td>Sketches from various studies\\n.\\n.\\n.\\n.\\n#st...</td>\n",
       "    </tr>\n",
       "    <tr>\n",
       "      <th>...</th>\n",
       "      <td>...</td>\n",
       "      <td>...</td>\n",
       "      <td>...</td>\n",
       "    </tr>\n",
       "    <tr>\n",
       "      <th>96</th>\n",
       "      <td>2021-05-30 06:42:47+00:00</td>\n",
       "      <td>1398892630084182018</td>\n",
       "      <td>Please join JADOO Learing App to help students...</td>\n",
       "    </tr>\n",
       "    <tr>\n",
       "      <th>97</th>\n",
       "      <td>2021-05-30 06:31:00+00:00</td>\n",
       "      <td>1398889662136172546</td>\n",
       "      <td>Let's take a look at the interesting #facts ab...</td>\n",
       "    </tr>\n",
       "    <tr>\n",
       "      <th>98</th>\n",
       "      <td>2021-05-30 06:30:35+00:00</td>\n",
       "      <td>1398889558381674500</td>\n",
       "      <td>Do you know? ⁠\\n⁠\\nThe wind is silent until it...</td>\n",
       "    </tr>\n",
       "    <tr>\n",
       "      <th>99</th>\n",
       "      <td>2021-05-30 06:15:31+00:00</td>\n",
       "      <td>1398885766776819719</td>\n",
       "      <td>Today is a comfortable day!\\nI have a holiday ...</td>\n",
       "    </tr>\n",
       "    <tr>\n",
       "      <th>100</th>\n",
       "      <td>2021-05-30 06:13:41+00:00</td>\n",
       "      <td>1398885303473950720</td>\n",
       "      <td>working on homework. at 11:11pm :D \\nJust have...</td>\n",
       "    </tr>\n",
       "  </tbody>\n",
       "</table>\n",
       "<p>101 rows × 3 columns</p>\n",
       "</div>"
      ],
      "text/plain": [
       "                     Datetime             Tweet Id  \\\n",
       "0   2021-05-30 23:22:05+00:00  1399144110313848832   \n",
       "1   2021-05-30 23:05:33+00:00  1399139950730350594   \n",
       "2   2021-05-30 22:53:42+00:00  1399136966046744577   \n",
       "3   2021-05-30 22:49:09+00:00  1399135823065452544   \n",
       "4   2021-05-30 22:35:43+00:00  1399132442716512259   \n",
       "..                        ...                  ...   \n",
       "96  2021-05-30 06:42:47+00:00  1398892630084182018   \n",
       "97  2021-05-30 06:31:00+00:00  1398889662136172546   \n",
       "98  2021-05-30 06:30:35+00:00  1398889558381674500   \n",
       "99  2021-05-30 06:15:31+00:00  1398885766776819719   \n",
       "100 2021-05-30 06:13:41+00:00  1398885303473950720   \n",
       "\n",
       "                                                  Text  \n",
       "0    good night 💤 \\n\\nfull loop:\\n https://t.co/Vid...  \n",
       "1    Sad and quiet night - Lofi Chill 85bpm \\n\\nFul...  \n",
       "2    #Australian wages and household income higher ...  \n",
       "3    Just a couple of quick rough studies posted at...  \n",
       "4    Sketches from various studies\\n.\\n.\\n.\\n.\\n#st...  \n",
       "..                                                 ...  \n",
       "96   Please join JADOO Learing App to help students...  \n",
       "97   Let's take a look at the interesting #facts ab...  \n",
       "98   Do you know? ⁠\\n⁠\\nThe wind is silent until it...  \n",
       "99   Today is a comfortable day!\\nI have a holiday ...  \n",
       "100  working on homework. at 11:11pm :D \\nJust have...  \n",
       "\n",
       "[101 rows x 3 columns]"
      ]
     },
     "execution_count": 15,
     "metadata": {},
     "output_type": "execute_result"
    }
   ],
   "source": [
    "tweets_df2"
   ]
  }
 ],
 "metadata": {
  "kernelspec": {
   "display_name": "Python 3",
   "language": "python",
   "name": "python3"
  },
  "language_info": {
   "codemirror_mode": {
    "name": "ipython",
    "version": 3
   },
   "file_extension": ".py",
   "mimetype": "text/x-python",
   "name": "python",
   "nbconvert_exporter": "python",
   "pygments_lexer": "ipython3",
   "version": "3.10.5 (tags/v3.10.5:f377153, Jun  6 2022, 16:14:13) [MSC v.1929 64 bit (AMD64)]"
  },
  "orig_nbformat": 4,
  "vscode": {
   "interpreter": {
    "hash": "c75c43c2f521f9af9e542d929de0113d2885c61f9244d7c222152b1c64260bb8"
   }
  }
 },
 "nbformat": 4,
 "nbformat_minor": 2
}
