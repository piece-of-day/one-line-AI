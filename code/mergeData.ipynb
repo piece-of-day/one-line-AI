{
 "cells": [
  {
   "cell_type": "code",
   "execution_count": 1,
   "metadata": {},
   "outputs": [],
   "source": [
    "import pandas as pd"
   ]
  },
  {
   "cell_type": "code",
   "execution_count": 31,
   "metadata": {},
   "outputs": [],
   "source": [
    "data = pd.read_csv('../data/text_emotion.csv')\n",
    "data2 = pd.read_csv('../data/Emotion_final.csv')\n",
    "train = pd.read_csv('../data/train.txt', sep = ';', names = ['Description', 'Emotion'])\n",
    "val = pd.read_csv('../data/val.txt', sep = ';', names = ['Description', 'Emotion'])"
   ]
  },
  {
   "attachments": {},
   "cell_type": "markdown",
   "metadata": {},
   "source": [
    "각 데이터 별 sentiment 분포 확인하기\n",
    "\n",
    "단어별 감정 벡터: https://data.world/elie707/emotions-sensor-dataset\n",
    "\n",
    "data1: https://data.world/crowdflower/sentiment-analysis-in-text\n",
    "\n",
    "data2: https://www.kaggle.com/datasets/ishantjuyal/emotions-in-text\n",
    "\n",
    "train/val: https://www.kaggle.com/datasets/praveengovi/emotions-dataset-for-nlp?select=val.txt"
   ]
  },
  {
   "cell_type": "code",
   "execution_count": 36,
   "metadata": {},
   "outputs": [
    {
     "name": "stdout",
     "output_type": "stream",
     "text": [
      "=========== Data1 ==========\n",
      "worry         8459\n",
      "happiness     5209\n",
      "sadness       5165\n",
      "love          3842\n",
      "surprise      2187\n",
      "fun           1776\n",
      "relief        1526\n",
      "hate          1323\n",
      "empty          827\n",
      "enthusiasm     759\n",
      "boredom        179\n",
      "anger          110\n",
      "Name: sentiment, dtype: int64\n",
      "\n",
      "\n",
      "\n",
      "=========== Data2 ==========\n",
      "happy       7029\n",
      "sadness     6265\n",
      "anger       2993\n",
      "fear        2652\n",
      "love        1641\n",
      "surprise     879\n",
      "Name: Emotion, dtype: int64\n",
      "\n",
      "\n",
      "\n",
      "=========== train/val ==========\n",
      "joy         5362\n",
      "sadness     4666\n",
      "anger       2159\n",
      "fear        1937\n",
      "love        1304\n",
      "surprise     572\n",
      "Name: Emotion, dtype: int64\n",
      "\n",
      "\n",
      "\n",
      " joy         704\n",
      "sadness     550\n",
      "anger       275\n",
      "fear        212\n",
      "love        178\n",
      "surprise     81\n",
      "Name: Emotion, dtype: int64\n"
     ]
    }
   ],
   "source": [
    "# 중성 단어는 배제하기\n",
    "print('=========== Data1 ==========')\n",
    "print(data[data['sentiment'] != 'neutral']['sentiment'].value_counts())\n",
    "\n",
    "print('\\n\\n\\n=========== Data2 ==========')\n",
    "print(data2['Emotion'].value_counts())\n",
    "\n",
    "print('\\n\\n\\n=========== train/val ==========')\n",
    "print(train['Emotion'].value_counts())\n",
    "print('\\n\\n\\n',val['Emotion'].value_counts())"
   ]
  },
  {
   "attachments": {},
   "cell_type": "markdown",
   "metadata": {},
   "source": [
    "Happiness, Sadness, Love, Anger, Surprise, Fear"
   ]
  },
  {
   "cell_type": "code",
   "execution_count": 27,
   "metadata": {},
   "outputs": [],
   "source": [
    "train = pd.read_csv('../data/train.txt', sep = ';', names = ['Description', 'Emotion'])\n",
    "val = pd.read_csv('../data/val.txt', sep = ';', names = ['Description', 'Emotion'])"
   ]
  },
  {
   "cell_type": "code",
   "execution_count": 30,
   "metadata": {},
   "outputs": [
    {
     "data": {
      "text/plain": [
       "joy         5362\n",
       "sadness     4666\n",
       "anger       2159\n",
       "fear        1937\n",
       "love        1304\n",
       "surprise     572\n",
       "Name: Emotion, dtype: int64"
      ]
     },
     "execution_count": 30,
     "metadata": {},
     "output_type": "execute_result"
    }
   ],
   "source": [
    "train['Emotion'].value_counts()"
   ]
  }
 ],
 "metadata": {
  "kernelspec": {
   "display_name": "Python 3",
   "language": "python",
   "name": "python3"
  },
  "language_info": {
   "codemirror_mode": {
    "name": "ipython",
    "version": 3
   },
   "file_extension": ".py",
   "mimetype": "text/x-python",
   "name": "python",
   "nbconvert_exporter": "python",
   "pygments_lexer": "ipython3",
   "version": "3.10.5"
  },
  "orig_nbformat": 4,
  "vscode": {
   "interpreter": {
    "hash": "c75c43c2f521f9af9e542d929de0113d2885c61f9244d7c222152b1c64260bb8"
   }
  }
 },
 "nbformat": 4,
 "nbformat_minor": 2
}
